{
 "cells": [
  {
   "cell_type": "markdown",
   "metadata": {},
   "source": [
    "<h1><center>SSP - Segurança Pública</center></h1>\n",
    "<h2><center>Feminicídio</center></h2>\n"
   ]
  },
  {
   "cell_type": "markdown",
   "metadata": {},
   "source": [
    "Esse código faz consulta no site SSP, e baixa todos os arquivos com dados sobre Feminicídio de 2016 até de 2020, de todos os meses. Depois envia para o Google Storage.\n",
    "\n",
    "\n",
    "<img src=\"https://selenium-python.readthedocs.io/_static/logo.png\"/>"
   ]
  },
  {
   "cell_type": "markdown",
   "metadata": {},
   "source": [
    "# Web Scraping"
   ]
  },
  {
   "cell_type": "markdown",
   "metadata": {},
   "source": [
    "### Importando Bibliotecas"
   ]
  },
  {
   "cell_type": "markdown",
   "metadata": {},
   "source": [
    "Responsavel pela automação de testes no navegador.<br> \n",
    "    <font color='green'>from </font>selenium <font color='green'>import </font>webdriver </br> \n",
    "\n",
    "Responsavel pela \"espera\". Faz com que um programa seja obrigado a aguardar os segundos determinados pelo sleep, para poder executar o próximo código.<br>\n",
    "    <font color='green'>from </font>time <font color='green'>import </font>sleep </br>\n",
    "\n",
    "Com essa biblioteca, permite que acessamos ferramentas Microsoft no Windows com Python.<br>\n",
    "    <font color='green'>import </font>win32com.client <font color='green'>as </font>win32 </br>\n",
    "\n",
    "Ele permite que listemos os arquivos de um diretório, usando expressões semelhantes as que usamos no shell, \n",
    "como por exemplo: *.<br>\n",
    "    <font color='green'>import </font>glob <br>\n",
    "    \n",
    "Essa é uma das biblitecas para realizar análise de dados.<br>\n",
    "    <font color='green'>import </font>pandas <font color='green'>as </font>pd </br>\n",
    "    \n",
    "Essa biblioteca é responsavel por fazer uma \"ponte\" com o GCP e enviar os dados para o Storage.<br>\n",
    "    <font color='green'>from </font>google.cloud <font color='green'>import </font>storage </br>"
   ]
  },
  {
   "cell_type": "code",
   "execution_count": 5,
   "metadata": {},
   "outputs": [
    {
     "name": "stdout",
     "output_type": "stream",
     "text": [
      "Requirement already satisfied: selenium in c:\\users\\elizangelasoaress\\anaconda3\\lib\\site-packages (3.141.0)\n",
      "Requirement already satisfied: urllib3 in c:\\users\\elizangelasoaress\\anaconda3\\lib\\site-packages (from selenium) (1.25.11)\n",
      "Collecting google-cloud-storage\n",
      "  Downloading google_cloud_storage-1.35.0-py2.py3-none-any.whl (96 kB)\n",
      "Collecting google-auth<2.0dev,>=1.11.0\n",
      "  Downloading google_auth-1.24.0-py2.py3-none-any.whl (114 kB)\n",
      "Collecting google-resumable-media<2.0dev,>=1.2.0\n",
      "  Downloading google_resumable_media-1.2.0-py2.py3-none-any.whl (75 kB)\n",
      "Collecting google-cloud-core<2.0dev,>=1.4.1\n",
      "  Downloading google_cloud_core-1.5.0-py2.py3-none-any.whl (27 kB)\n",
      "Requirement already satisfied: requests<3.0.0dev,>=2.18.0 in c:\\users\\elizangelasoaress\\anaconda3\\lib\\site-packages (from google-cloud-storage) (2.24.0)\n",
      "Collecting pyasn1-modules>=0.2.1\n",
      "  Downloading pyasn1_modules-0.2.8-py2.py3-none-any.whl (155 kB)\n",
      "Requirement already satisfied: setuptools>=40.3.0 in c:\\users\\elizangelasoaress\\anaconda3\\lib\\site-packages (from google-auth<2.0dev,>=1.11.0->google-cloud-storage) (50.3.1.post20201107)\n",
      "Requirement already satisfied: six>=1.9.0 in c:\\users\\elizangelasoaress\\anaconda3\\lib\\site-packages (from google-auth<2.0dev,>=1.11.0->google-cloud-storage) (1.15.0)\n",
      "Collecting rsa<5,>=3.1.4; python_version >= \"3.6\"\n",
      "  Downloading rsa-4.7-py3-none-any.whl (34 kB)\n",
      "Collecting cachetools<5.0,>=2.0.0\n",
      "  Downloading cachetools-4.2.1-py3-none-any.whl (12 kB)\n",
      "Collecting google-crc32c<2.0dev,>=1.0; python_version >= \"3.5\"\n",
      "  Downloading google_crc32c-1.1.2-cp38-cp38-win_amd64.whl (34 kB)\n",
      "Collecting google-api-core<2.0.0dev,>=1.21.0\n",
      "  Downloading google_api_core-1.25.1-py2.py3-none-any.whl (92 kB)\n",
      "Requirement already satisfied: certifi>=2017.4.17 in c:\\users\\elizangelasoaress\\anaconda3\\lib\\site-packages (from requests<3.0.0dev,>=2.18.0->google-cloud-storage) (2020.6.20)\n",
      "Requirement already satisfied: chardet<4,>=3.0.2 in c:\\users\\elizangelasoaress\\anaconda3\\lib\\site-packages (from requests<3.0.0dev,>=2.18.0->google-cloud-storage) (3.0.4)\n",
      "Requirement already satisfied: idna<3,>=2.5 in c:\\users\\elizangelasoaress\\anaconda3\\lib\\site-packages (from requests<3.0.0dev,>=2.18.0->google-cloud-storage) (2.10)\n",
      "Requirement already satisfied: urllib3!=1.25.0,!=1.25.1,<1.26,>=1.21.1 in c:\\users\\elizangelasoaress\\anaconda3\\lib\\site-packages (from requests<3.0.0dev,>=2.18.0->google-cloud-storage) (1.25.11)\n",
      "Collecting pyasn1<0.5.0,>=0.4.6\n",
      "  Downloading pyasn1-0.4.8-py2.py3-none-any.whl (77 kB)\n",
      "Requirement already satisfied: cffi>=1.0.0 in c:\\users\\elizangelasoaress\\anaconda3\\lib\\site-packages (from google-crc32c<2.0dev,>=1.0; python_version >= \"3.5\"->google-resumable-media<2.0dev,>=1.2.0->google-cloud-storage) (1.14.3)\n",
      "Requirement already satisfied: pytz in c:\\users\\elizangelasoaress\\anaconda3\\lib\\site-packages (from google-api-core<2.0.0dev,>=1.21.0->google-cloud-core<2.0dev,>=1.4.1->google-cloud-storage) (2020.1)\n",
      "Collecting googleapis-common-protos<2.0dev,>=1.6.0\n",
      "  Downloading googleapis_common_protos-1.52.0-py2.py3-none-any.whl (100 kB)\n",
      "Collecting protobuf>=3.12.0\n",
      "  Downloading protobuf-3.14.0-py2.py3-none-any.whl (173 kB)\n",
      "Requirement already satisfied: pycparser in c:\\users\\elizangelasoaress\\anaconda3\\lib\\site-packages (from cffi>=1.0.0->google-crc32c<2.0dev,>=1.0; python_version >= \"3.5\"->google-resumable-media<2.0dev,>=1.2.0->google-cloud-storage) (2.20)\n",
      "Installing collected packages: pyasn1, pyasn1-modules, rsa, cachetools, google-auth, google-crc32c, google-resumable-media, protobuf, googleapis-common-protos, google-api-core, google-cloud-core, google-cloud-storage\n",
      "Successfully installed cachetools-4.2.1 google-api-core-1.25.1 google-auth-1.24.0 google-cloud-core-1.5.0 google-cloud-storage-1.35.0 google-crc32c-1.1.2 google-resumable-media-1.2.0 googleapis-common-protos-1.52.0 protobuf-3.14.0 pyasn1-0.4.8 pyasn1-modules-0.2.8 rsa-4.7\n"
     ]
    }
   ],
   "source": [
    "# !pip install selenium\n",
    "# !pip install google-cloud-storage"
   ]
  },
  {
   "cell_type": "code",
   "execution_count": 6,
   "metadata": {},
   "outputs": [],
   "source": [
    "from selenium import webdriver\n",
    "from time import sleep\n",
    "import win32com.client as win32\n",
    "import glob\n",
    "import pandas as pd\n",
    "from google.cloud import storage"
   ]
  },
  {
   "cell_type": "markdown",
   "metadata": {},
   "source": [
    "### Inicia o browser"
   ]
  },
  {
   "cell_type": "code",
   "execution_count": null,
   "metadata": {},
   "outputs": [],
   "source": [
    "driver = webdriver.Chrome('chromedriver')"
   ]
  },
  {
   "cell_type": "markdown",
   "metadata": {},
   "source": [
    "### Entra no site desejado"
   ]
  },
  {
   "cell_type": "code",
   "execution_count": null,
   "metadata": {},
   "outputs": [],
   "source": [
    "driver.get('http://www.ssp.sp.gov.br/transparenciassp/Consulta.aspx')"
   ]
  },
  {
   "cell_type": "markdown",
   "metadata": {},
   "source": [
    "### Seleciona categoria Feminicídio e depois seleciona o mês de janeiro"
   ]
  },
  {
   "cell_type": "code",
   "execution_count": null,
   "metadata": {},
   "outputs": [],
   "source": [
    "botao1 = driver.find_element_by_xpath('//*[@id=\"cphBody_btnFeminicidio\"]').click()\n",
    "sleep(5)\n",
    "botao2 = driver.find_element_by_xpath('//*[@id=\"cphBody_listMes1\"]').click()"
   ]
  },
  {
   "cell_type": "code",
   "execution_count": null,
   "metadata": {},
   "outputs": [],
   "source": [
    "def ano2020():\n",
    "    \"\"\"\n",
    "    Botão 1: Seleciona o feminicidio na página.\n",
    "    Botão 2: Seleciona janeiro de 2020.\n",
    "    Botão 3: Pega todos os meses de 2020 conforme o range.\n",
    "    Botão 4: Baixa o arquivo com os dados.\n",
    "    Botão 5: Clica no botão fechar do mês de dezembro.\n",
    "    \"\"\"\n",
    "    botao1 = driver.find_element_by_xpath('//*[@id=\"cphBody_btnFeminicidio\"]').click()\n",
    "    sleep(5)\n",
    "    botao2 = driver.find_element_by_xpath('//*[@id=\"cphBody_listMes1\"]').click()\n",
    "    for c in range(1, 13):\n",
    "        botao3 = driver.find_element_by_xpath(f'//*[@id=\"cphBody_listMes{c}\"]').click()\n",
    "        botao4 = driver.find_element_by_xpath('//*[@id=\"cphBody_ExportarBOLink\"]').click()\n",
    "        sleep(5)\n",
    "        botao5 = driver.find_element_by_xpath('//*[@id=\"cphBody_divModal\"]/div/div/div[3]/button')\n",
    "        driver.execute_script(\"arguments[0].click()\", botao5)\n",
    "        sleep(5)"
   ]
  },
  {
   "cell_type": "code",
   "execution_count": null,
   "metadata": {},
   "outputs": [],
   "source": [
    "def ano2019():\n",
    "    \"\"\"\n",
    "    Botão 6: Seleciona o ano 2019.\n",
    "    Botão 7: Seleciona janeiro de 2019.\n",
    "    Botão 8: Pega todos os meses de 2019 conforme o range.\n",
    "    Botão 9: Baixa o arquivo com os dados.\n",
    "    \"\"\"\n",
    "    botao6 = driver.find_element_by_xpath('//*[@id=\"cphBody_lkAno19\"]').click()\n",
    "    botao7 = driver.find_element_by_xpath('//*[@id=\"cphBody_lkMes1\"]').click()\n",
    "    for c in range(1, 13):\n",
    "        botao8 = driver.find_element_by_xpath(f'//*[@id=\"cphBody_listMes{c}\"]').click()\n",
    "        sleep(5)\n",
    "        botao9 = driver.find_element_by_xpath('//*[@id=\"cphBody_ExportarBOLink\"]').click()\n",
    "        sleep(5)"
   ]
  },
  {
   "cell_type": "code",
   "execution_count": null,
   "metadata": {},
   "outputs": [],
   "source": [
    "def ano2018():\n",
    "    \"\"\"\n",
    "    Botão 10: Seleciona o ano 2018.\n",
    "    Botão 11: Seleciona janeiro de 2018.\n",
    "    Botão 12: Pega todos os meses de 2018 conforme o range.\n",
    "    Botão 13: Baixa o arquivo com os dados.\n",
    "    \"\"\"\n",
    "    botao10 = driver.find_element_by_xpath('//*[@id=\"cphBody_lkAno18\"]').click()\n",
    "    botao11 = driver.find_element_by_xpath('//*[@id=\"cphBody_lkMes1\"]').click()\n",
    "    for c in range(1, 13):\n",
    "        botao12 = driver.find_element_by_xpath(f'//*[@id=\"cphBody_listMes{c}\"]').click()\n",
    "        sleep(5)\n",
    "        botao13 = driver.find_element_by_xpath('//*[@id=\"cphBody_ExportarBOLink\"]').click()\n",
    "        sleep(5)"
   ]
  },
  {
   "cell_type": "code",
   "execution_count": null,
   "metadata": {},
   "outputs": [],
   "source": [
    "def ano2017():\n",
    "    \"\"\"\n",
    "    Botão 14: Seleciona o ano 2017.\n",
    "    Botão 15: Seleciona janeiro de 2017.\n",
    "    Botão 16: Pega todos os meses de 2017 conforme o range.\n",
    "    Botão 17: Baixa o arquivo com os dados.\n",
    "    \"\"\"\n",
    "    botao14 = driver.find_element_by_xpath('//*[@id=\"cphBody_lkAno17\"]').click()\n",
    "    botao15 = driver.find_element_by_xpath('//*[@id=\"cphBody_lkMes1\"]').click()\n",
    "    for c in range(1, 13):\n",
    "        botao16 = driver.find_element_by_xpath(f'//*[@id=\"cphBody_listMes{c}\"]').click()\n",
    "        sleep(5)\n",
    "        botao17 = driver.find_element_by_xpath('//*[@id=\"cphBody_ExportarBOLink\"]').click()\n",
    "        sleep(5)"
   ]
  },
  {
   "cell_type": "code",
   "execution_count": null,
   "metadata": {},
   "outputs": [],
   "source": [
    "def ano2016():\n",
    "    \"\"\"\n",
    "    Botão 18: Seleciona o ano 2016.\n",
    "    Botão 19: Seleciona janeiro de 2016.\n",
    "    Botão 20: Pega todos os meses de 2016 conforme o range.\n",
    "    Botão 21: Baixa o arquivo com os dados.\n",
    "    \"\"\"\n",
    "    botao18 = driver.find_element_by_xpath('//*[@id=\"cphBody_lkAno16\"]').click()\n",
    "    botao19 = driver.find_element_by_xpath('//*[@id=\"cphBody_lkMes1\"]').click()\n",
    "    for c in range(1, 13):\n",
    "        botao20 = driver.find_element_by_xpath(f'//*[@id=\"cphBody_listMes{c}\"]').click()\n",
    "        sleep(5)\n",
    "        botao21 = driver.find_element_by_xpath('//*[@id=\"cphBody_ExportarBOLink\"]').click()\n",
    "        sleep(5)"
   ]
  },
  {
   "cell_type": "code",
   "execution_count": null,
   "metadata": {},
   "outputs": [],
   "source": [
    "ano2020()\n",
    "sleep(10)\n",
    "ano2019()\n",
    "sleep(10)\n",
    "ano2018()\n",
    "sleep(10)\n",
    "ano2017()\n",
    "sleep(10)\n",
    "ano2016()"
   ]
  },
  {
   "cell_type": "markdown",
   "metadata": {},
   "source": [
    "### Converte os arquivos XLS para XLSX do ano 2016 a 2020 de janeiro à dezembro"
   ]
  },
  {
   "cell_type": "code",
   "execution_count": null,
   "metadata": {},
   "outputs": [],
   "source": [
    "for ano in range (2016,2021):\n",
    "    for i in range(1,13):\n",
    "        try:\n",
    "            fname = fr'C:\\Users\\elizangelasoaress\\Downloads\\DadosBO_{ano}_{i}(FEMINICÍDIO).xls' \n",
    "            excel = win32.gencache.EnsureDispatch('Excel.Application')\n",
    "            wb = excel.Workbooks.Open(fname)\n",
    "            wb.SaveAs(fname+\"x\", FileFormat = 51) # FileFormat = 51 is for .xlsx extension\n",
    "            wb.Close() # FileFormat = 56 is for .xls extension\n",
    "            excel.Application.Quit()\n",
    "        except:\n",
    "            pass"
   ]
  },
  {
   "cell_type": "markdown",
   "metadata": {},
   "source": [
    "### Listando os arquivos"
   ]
  },
  {
   "cell_type": "code",
   "execution_count": 9,
   "metadata": {},
   "outputs": [
    {
     "data": {
      "text/plain": [
       "['C:\\\\Users\\\\elizangelasoaress\\\\Downloads\\\\DadosBO_2020_1(FEMINICÍDIO) (3).xls']"
      ]
     },
     "execution_count": 9,
     "metadata": {},
     "output_type": "execute_result"
    }
   ],
   "source": [
    "d1 = glob.glob(r\"C:\\Users\\elizangelasoaress\\Downloads\\*.xlsx\")"
   ]
  },
  {
   "cell_type": "markdown",
   "metadata": {},
   "source": [
    "### Unificação de arquivos e conversão para CSV"
   ]
  },
  {
   "cell_type": "code",
   "execution_count": null,
   "metadata": {},
   "outputs": [],
   "source": [
    "all_data = pd.DataFrame()\n",
    "for f in glob.glob(r\"C:\\Users\\elizangelasoaress\\Downloads\\*.xlsx\"):\n",
    "    df = pd.read_excel(f)\n",
    "    all_data = all_data.append(df,ignore_index=True)"
   ]
  },
  {
   "cell_type": "code",
   "execution_count": null,
   "metadata": {},
   "outputs": [],
   "source": [
    "all_data.to_csv(r'C:\\Users\\elizangelasoaress\\Downloads\\Base-consolidada.csv')"
   ]
  },
  {
   "cell_type": "markdown",
   "metadata": {},
   "source": [
    "### Conversão de tipo primitivo"
   ]
  },
  {
   "cell_type": "code",
   "execution_count": null,
   "metadata": {},
   "outputs": [],
   "source": [
    "df = pd.read_csv(r\"C:\\Users\\elizangelasoaress\\Downloads\\Base-consolidada.csv\")"
   ]
  },
  {
   "cell_type": "code",
   "execution_count": null,
   "metadata": {},
   "outputs": [],
   "source": [
    "df['DATAOCORRENCIA'] = pd.to_datetime(df['DATAOCORRENCIA'])"
   ]
  },
  {
   "cell_type": "code",
   "execution_count": null,
   "metadata": {},
   "outputs": [],
   "source": [
    "df.to_csv(r\"C:\\Users\\elizangelasoaress\\Downloads\\Base-Fem.csv\")"
   ]
  },
  {
   "cell_type": "code",
   "execution_count": null,
   "metadata": {},
   "outputs": [],
   "source": [
    "df = pd.read_csv(r\"C:\\Users\\elizangelasoaress\\Downloads\\Base-Fem.csv\")"
   ]
  },
  {
   "cell_type": "markdown",
   "metadata": {},
   "source": [
    "### Migração da VM para Google Storage"
   ]
  },
  {
   "cell_type": "code",
   "execution_count": null,
   "metadata": {},
   "outputs": [],
   "source": [
    "storage_client = storage.Client.from_service_account_json('blueshift-academy.json') # Autenticação do GCP\n",
    "bucket = storage_client.get_bucket('proj_integrado-stg') # Busca o bucket\n",
    "blob = bucket.blob('NewFolder') # Cria uma nova pasta\n",
    "blob.upload_from_filename(r'C:\\Users\\elizangelasoaress\\Downloads\\Base-Fem.csv') # Faz o upload do arquivo\n",
    "bucket.rename_blob(blob, \"BaseConsolidadaFem.csv\") # Renomeia o arquivo"
   ]
  },
  {
   "cell_type": "markdown",
   "metadata": {},
   "source": [
    "### Finalizando a aplicação"
   ]
  },
  {
   "cell_type": "code",
   "execution_count": null,
   "metadata": {},
   "outputs": [],
   "source": [
    "driver.close()"
   ]
  }
 ],
 "metadata": {
  "kernelspec": {
   "display_name": "Python 3",
   "language": "python",
   "name": "python3"
  },
  "language_info": {
   "codemirror_mode": {
    "name": "ipython",
    "version": 3
   },
   "file_extension": ".py",
   "mimetype": "text/x-python",
   "name": "python",
   "nbconvert_exporter": "python",
   "pygments_lexer": "ipython3",
   "version": "3.8.5"
  }
 },
 "nbformat": 4,
 "nbformat_minor": 4
}
